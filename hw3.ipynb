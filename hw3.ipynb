{
 "cells": [
  {
   "cell_type": "markdown",
   "metadata": {
    "colab_type": "text",
    "id": "view-in-github"
   },
   "source": [
    "<a href=\"https://colab.research.google.com/gist/yiftachn/49329d278b380a86cfe2a92a4fe2dc76/hw3-sna.ipynb\" target=\"_parent\"><img src=\"https://colab.research.google.com/assets/colab-badge.svg\" alt=\"Open In Colab\"/></a>"
   ]
  },
  {
   "cell_type": "markdown",
   "metadata": {
    "colab_type": "text",
    "id": "ZRqPqkVP0Tti"
   },
   "source": [
    "# imports"
   ]
  },
  {
   "cell_type": "code",
   "execution_count": 154,
   "metadata": {
    "colab": {},
    "colab_type": "code",
    "id": "sEly8LGL0Ttk"
   },
   "outputs": [],
   "source": [
    "import networkx as nx\n",
    "import pandas as pd\n",
    "import numpy as np\n",
    "import bokeh as bk\n",
    "import glob\n",
    "from tqdm import tqdm\n",
    "from networkx.algorithms import approximation as apx\n",
    "path = \"files/\"\n",
    "from sklearn.cluster import KMeans, DBSCAN, MeanShift\n",
    "from collections import Counter"
   ]
  },
  {
   "cell_type": "markdown",
   "metadata": {
    "colab_type": "text",
    "id": "t3fB_9xy0Tto"
   },
   "source": [
    "# load networks"
   ]
  },
  {
   "cell_type": "code",
   "execution_count": 38,
   "metadata": {
    "colab": {},
    "colab_type": "code",
    "id": "FXy4kaUs0Ttp"
   },
   "outputs": [],
   "source": [
    "networks = []\n",
    "for file in glob.glob(path+\"*.txt\"):\n",
    "  df = pd.read_csv(file,sep=\" \",header = None)\n",
    "  g = nx.from_pandas_edgelist(df,0,1)\n",
    "  g.name = file[6:]\n",
    "  networks.append(g)"
   ]
  },
  {
   "cell_type": "code",
   "execution_count": 30,
   "metadata": {
    "colab": {},
    "colab_type": "code",
    "id": "KTbK4jAASwxA",
    "scrolled": true
   },
   "outputs": [
    {
     "name": "stdout",
     "output_type": "stream",
     "text": [
      "as-caida20050404.ngraph.txt\n",
      "as-caida20050905.ngraph.txt\n",
      "as-caida20051205.ngraph.txt\n",
      "as-caida20060102.ngraph.txt\n",
      "as-caida20060306.ngraph.txt\n",
      "as-caida20060327.ngraph.txt\n",
      "as-caida20060515.ngraph.txt\n",
      "as-caida20060619.ngraph.txt\n",
      "as-caida20060724.ngraph.txt\n",
      "as-Oregon1_010331.ungraph.txt\n",
      "as-Oregon1_010407.ungraph.txt\n",
      "as-Oregon1_010414.ungraph.txt\n",
      "as-Oregon1_010421.ungraph.txt\n",
      "as-Oregon1_010428.ungraph.txt\n",
      "as-Oregon1_010505.ungraph.txt\n",
      "as-Oregon1_010512.ungraph.txt\n",
      "as-Oregon1_010519.ungraph.txt\n",
      "as-Oregon1_010526.ungraph.txt\n",
      "BAA1(1000).ungraph.txt\n",
      "BAA1(1500).ungraph.txt\n",
      "BAA1(500).ungraph.txt\n",
      "BAA2(1000).ungraph.txt\n",
      "BAA2(1500).ungraph.txt\n",
      "BAA2(500).ungraph.txt\n",
      "BAA3(1000).ungraph.txt\n",
      "BAA3(1500).ungraph.txt\n",
      "BAA3(500).ungraph.txt\n",
      "cn-dblp (1218).ungraph.txt\n",
      "cn-dblp (1328).txt\n",
      "cn-dblp (1329).txt\n",
      "cn-dblp (1330).txt\n",
      "cn-dblp (1331).txt\n",
      "cn-dblp (1332).txt\n",
      "cn-dblp (1333).txt\n",
      "cn-dblp (1334).txt\n",
      "cn-dblp (1335).txt\n",
      "ER1(1000).ungraph.txt\n",
      "ER1(1500).ungraph.txt\n",
      "ER1(500).ungraph.txt\n",
      "ER2(1000).ungraph.txt\n",
      "ER2(1500).ungraph.txt\n",
      "ER2(500).ungraph.txt\n",
      "ER3(1000).ungraph.txt\n",
      "ER3(1500).ungraph.txt\n",
      "ER3(500).ungraph.txt\n",
      "p2p-Gnutella04.ngraph.txt\n",
      "p2p-Gnutella05.ngraph.txt\n",
      "p2p-Gnutella06.ngraph.txt\n",
      "p2p-Gnutella08.ngraph.txt\n",
      "p2p-Gnutella09.ngraph.txt\n",
      "p2p-Gnutella24.ngraph.txt\n",
      "p2p-Gnutella25.ngraph.txt\n",
      "p2p-Gnutella30.ngraph.txt\n",
      "p2p-Gnutella31.ngraph.txt\n",
      "ppi-Yeast_BIND.ngraph.txt\n",
      "ppi-Yeast_BioGrid.ngraph.txt\n",
      "ppi-Yeast_DIP.ngraph.txt\n",
      "ppi-Yeast_HIGH.ngraph.txt\n",
      "ppi-Yeast_IntAct.ngraph.txt\n",
      "ppi-Yeast_KINOME.ngraph.txt\n",
      "ppi-Yeast_LOW.ngraph.txt\n",
      "ppi-Yeast_MEDIUM.ngraph.txt\n",
      "ppi-Yeast_MINT.ngraph.txt\n",
      "prod-amazon (2369).txt\n",
      "prod-amazon (2370).txt\n",
      "prod-amazon (2371).txt\n",
      "prod-amazon (2372).txt\n",
      "prod-amazon (2373).txt\n",
      "prod-amazon (2374).txt\n",
      "prod-amazon (2375).txt\n",
      "prod-amazon (2376).txt\n",
      "prod-amazon (2377).txt\n",
      "rn-AustinNetwork.ngraph.txt\n",
      "rn-Barcelona_net.ngraph.txt\n",
      "rn-ChicagoRegional_net.ngraph.txt\n",
      "rn-ChicagoSketch_net.ngraph.txt\n",
      "rn-euro.ungraph.txt\n",
      "rn-goldcoast_network.ungraph.txt\n",
      "rn-Hessen_net.ngraph.txt\n",
      "rn-Philadelphia_network.ngraph.txt\n",
      "rn-PRISM_M_Net.ngraph.txt\n",
      "sn-lj (3807).txt\n",
      "sn-lj (3808).txt\n",
      "sn-lj (3809).txt\n",
      "sn-lj (3810).txt\n",
      "sn-lj (3811).txt\n",
      "sn-lj (3812).txt\n",
      "sn-lj (3813).txt\n",
      "sn-lj (3814).txt\n",
      "sn-lj (3815).txt\n",
      "sn-youtube (611).txt\n",
      "sn-youtube (612).txt\n",
      "sn-youtube (613).txt\n",
      "sn-youtube (614).txt\n",
      "sn-youtube (615).txt\n",
      "sn-youtube (616).txt\n",
      "sn-youtube (617).txt\n",
      "sn-youtube (618).txt\n",
      "sn-youtube (619).txt\n",
      "WS1(1000).ungraph.txt\n",
      "WS1(1500).ungraph.txt\n",
      "WS1(500).ungraph.txt\n",
      "WS2(1000).ungraph.txt\n",
      "WS2(1500).ungraph.txt\n",
      "WS2(500).ungraph.txt\n",
      "WS3(1000).ungraph.txt\n",
      "WS3(1500).ungraph.txt\n",
      "WS3(500).ungraph.txt\n"
     ]
    }
   ],
   "source": [
    "for x in glob.glob(path+\"*.txt\"):\n",
    "    print (x[6:])"
   ]
  },
  {
   "cell_type": "markdown",
   "metadata": {
    "colab_type": "text",
    "id": "kmeeYpofBYlz"
   },
   "source": [
    "# Calculate labes and divide train and test"
   ]
  },
  {
   "cell_type": "code",
   "execution_count": 33,
   "metadata": {
    "colab": {},
    "colab_type": "code",
    "id": "kg8oINf7Bk8S"
   },
   "outputs": [],
   "source": [
    "network_labels = {}\n",
    "for file in glob.glob(path+\"*.txt\"):\n",
    "  name = file[6:]\n",
    "  sep = name.find('-')\n",
    "  if sep == -1 :\n",
    "    network_labels[name] = name[0:2]\n",
    "  else:\n",
    "    network_labels[name] = name[:sep]"
   ]
  },
  {
   "cell_type": "code",
   "execution_count": 42,
   "metadata": {
    "colab": {},
    "colab_type": "code",
    "id": "ERYaTZUoGthK"
   },
   "outputs": [
    {
     "data": {
      "text/plain": [
       "set"
      ]
     },
     "execution_count": 42,
     "metadata": {},
     "output_type": "execute_result"
    }
   ],
   "source": [
    "type({(x,1) for x in [1,2,3]})"
   ]
  },
  {
   "cell_type": "markdown",
   "metadata": {
    "colab_type": "text",
    "id": "5X-LtAfa0Ttu"
   },
   "source": [
    "# calculate features"
   ]
  },
  {
   "cell_type": "code",
   "execution_count": 43,
   "metadata": {
    "colab": {},
    "colab_type": "code",
    "id": "IVPf-bPA80_I"
   },
   "outputs": [],
   "source": [
    "network_features = pd.DataFrame(dict((x.name[6:],0) for x in networks),columns=['name','average_degree']).set_index('name')\n"
   ]
  },
  {
   "cell_type": "markdown",
   "metadata": {
    "colab_type": "text",
    "id": "kCOUfycOANQC"
   },
   "source": [
    "## calculate average degree by std\n",
    "\n"
   ]
  },
  {
   "cell_type": "code",
   "execution_count": 44,
   "metadata": {
    "colab": {},
    "colab_type": "code",
    "id": "CVZ7rHRvAT7c"
   },
   "outputs": [],
   "source": [
    "for network in networks:\n",
    "  degrees = []\n",
    "  for d in nx.degree(network):\n",
    "    degrees.append(d[1])\n",
    "  degrees = np.array(degrees)\n",
    "  std_by_mean = np.std(degrees)/np.mean(degrees)\n",
    "  network_features.loc[network.name,'degree_mean'] = np.mean(degrees)\n",
    "  network_features.loc[network.name,'degree_std_by_mean'] = std_by_mean"
   ]
  },
  {
   "cell_type": "code",
   "execution_count": null,
   "metadata": {
    "colab": {},
    "colab_type": "code",
    "id": "5enXAY9Za0tC"
   },
   "outputs": [],
   "source": []
  },
  {
   "cell_type": "markdown",
   "metadata": {
    "colab_type": "text",
    "id": "kRQaznUIcozH"
   },
   "source": [
    "## calculate connected components number\n"
   ]
  },
  {
   "cell_type": "code",
   "execution_count": 45,
   "metadata": {
    "colab": {},
    "colab_type": "code",
    "id": "HpoQvoCJ-YYF"
   },
   "outputs": [
    {
     "name": "stderr",
     "output_type": "stream",
     "text": [
      "100%|████████████████████████████████████████████████████████████████████████████████| 108/108 [00:02<00:00, 52.56it/s]\n"
     ]
    }
   ],
   "source": [
    "for network in tqdm(networks):\n",
    "  network_features.loc[network.name,'connected_components'] = nx.number_connected_components(network)"
   ]
  },
  {
   "cell_type": "markdown",
   "metadata": {
    "colab_type": "text",
    "id": "hKayGLolGaFF"
   },
   "source": [
    "## calculate clustering coefficient"
   ]
  },
  {
   "cell_type": "code",
   "execution_count": 46,
   "metadata": {
    "colab": {},
    "colab_type": "code",
    "id": "KoS-bOYNGSks"
   },
   "outputs": [
    {
     "name": "stderr",
     "output_type": "stream",
     "text": [
      "100%|████████████████████████████████████████████████████████████████████████████████| 108/108 [00:01<00:00, 73.76it/s]\n"
     ]
    }
   ],
   "source": [
    "for network in tqdm(networks):\n",
    "  network_features.loc[network.name,'avg_clustering_coefficient'] = apx.clustering_coefficient.average_clustering(network)"
   ]
  },
  {
   "cell_type": "markdown",
   "metadata": {
    "colab_type": "text",
    "id": "OJLFfy_aJAXP"
   },
   "source": [
    "## calculate vertex cover by size\n"
   ]
  },
  {
   "cell_type": "code",
   "execution_count": 47,
   "metadata": {
    "colab": {},
    "colab_type": "code",
    "id": "dZu5gSc3JnRn"
   },
   "outputs": [],
   "source": [
    "for network in networks:\n",
    "    network_features.loc[network.name,'vertex_cover_by_size'] = len(apx.min_weighted_vertex_cover(network))/ nx.number_of_nodes(network)\n"
   ]
  },
  {
   "cell_type": "code",
   "execution_count": 52,
   "metadata": {
    "colab": {},
    "colab_type": "code",
    "id": "iXL_9PQCL3Sw"
   },
   "outputs": [],
   "source": [
    "network_features = network_features.drop(columns = 'average_degree')"
   ]
  },
  {
   "cell_type": "markdown",
   "metadata": {},
   "source": [
    "# inspect features"
   ]
  },
  {
   "cell_type": "code",
   "execution_count": 168,
   "metadata": {},
   "outputs": [
    {
     "data": {
      "text/plain": [
       "0.9999999999999997"
      ]
     },
     "execution_count": 168,
     "metadata": {},
     "output_type": "execute_result"
    }
   ],
   "source": [
    "s = network_features.degree_std_by_mean\n",
    "s = (s -s.mean())/s.std()\n",
    "s.std()"
   ]
  },
  {
   "cell_type": "markdown",
   "metadata": {
    "colab_type": "text",
    "id": "Xe_6Gx2m0Ttv"
   },
   "source": [
    "# train model"
   ]
  },
  {
   "cell_type": "code",
   "execution_count": 156,
   "metadata": {},
   "outputs": [],
   "source": [
    "models = [KMeans(n_clusters=12),MeanShift(),DBSCAN()]\n",
    "predictions = []\n",
    "for model in models:\n",
    "    predictions.append(model.fit_predict(network_features))"
   ]
  },
  {
   "cell_type": "code",
   "execution_count": 157,
   "metadata": {},
   "outputs": [],
   "source": [
    "predtuples = []\n",
    "for prediction in predictions:\n",
    "    predtuples.append([(prediction[i],network_labels[network_features.iloc[i].name]) for i in range(len(network_features))])"
   ]
  },
  {
   "cell_type": "code",
   "execution_count": 148,
   "metadata": {},
   "outputs": [],
   "source": [
    "def purity(predictions):\n",
    "    predictions.sort()\n",
    "    clusters = set(x for x,y in predictions)\n",
    "    sum = 0\n",
    "    for cluster in clusters:\n",
    "        counter = Counter(y for x,y in predictions if x==cluster)\n",
    "        sum += max(counter.values())\n",
    "    return sum /len(predictions)"
   ]
  },
  {
   "cell_type": "code",
   "execution_count": 160,
   "metadata": {},
   "outputs": [
    {
     "data": {
      "text/plain": [
       "0.46296296296296297"
      ]
     },
     "execution_count": 160,
     "metadata": {},
     "output_type": "execute_result"
    }
   ],
   "source": [
    "purity(predtuples[2])"
   ]
  },
  {
   "cell_type": "code",
   "execution_count": 151,
   "metadata": {},
   "outputs": [
    {
     "data": {
      "text/plain": [
       "[(0, 'ER'),\n",
       " (0, 'ER'),\n",
       " (0, 'ER'),\n",
       " (0, 'cn'),\n",
       " (0, 'ppi'),\n",
       " (0, 'ppi'),\n",
       " (0, 'sn'),\n",
       " (0, 'sn'),\n",
       " (0, 'sn'),\n",
       " (0, 'sn'),\n",
       " (0, 'sn'),\n",
       " (0, 'sn'),\n",
       " (0, 'sn'),\n",
       " (0, 'sn'),\n",
       " (0, 'sn'),\n",
       " (1, 'BA'),\n",
       " (1, 'BA'),\n",
       " (1, 'BA'),\n",
       " (2, 'p2p'),\n",
       " (2, 'p2p'),\n",
       " (2, 'p2p'),\n",
       " (2, 'p2p'),\n",
       " (3, 'BA'),\n",
       " (3, 'BA'),\n",
       " (3, 'BA'),\n",
       " (4, 'ppi'),\n",
       " (4, 'ppi'),\n",
       " (5, 'BA'),\n",
       " (5, 'BA'),\n",
       " (5, 'BA'),\n",
       " (6, 'ER'),\n",
       " (6, 'ER'),\n",
       " (6, 'ER'),\n",
       " (7, 'ppi'),\n",
       " (7, 'ppi'),\n",
       " (7, 'ppi'),\n",
       " (7, 'rn'),\n",
       " (7, 'rn'),\n",
       " (8, 'ER'),\n",
       " (8, 'ER'),\n",
       " (8, 'ER'),\n",
       " (9, 'as'),\n",
       " (9, 'as'),\n",
       " (9, 'as'),\n",
       " (9, 'as'),\n",
       " (9, 'as'),\n",
       " (9, 'as'),\n",
       " (9, 'as'),\n",
       " (9, 'as'),\n",
       " (9, 'as'),\n",
       " (9, 'as'),\n",
       " (9, 'as'),\n",
       " (9, 'as'),\n",
       " (9, 'as'),\n",
       " (9, 'as'),\n",
       " (9, 'as'),\n",
       " (9, 'as'),\n",
       " (9, 'as'),\n",
       " (9, 'as'),\n",
       " (10, 'WS'),\n",
       " (10, 'WS'),\n",
       " (10, 'WS'),\n",
       " (10, 'WS'),\n",
       " (10, 'WS'),\n",
       " (10, 'WS'),\n",
       " (10, 'WS'),\n",
       " (10, 'WS'),\n",
       " (10, 'WS'),\n",
       " (10, 'cn'),\n",
       " (10, 'cn'),\n",
       " (10, 'cn'),\n",
       " (10, 'cn'),\n",
       " (10, 'cn'),\n",
       " (10, 'cn'),\n",
       " (10, 'cn'),\n",
       " (10, 'cn'),\n",
       " (10, 'p2p'),\n",
       " (10, 'p2p'),\n",
       " (10, 'p2p'),\n",
       " (10, 'p2p'),\n",
       " (10, 'p2p'),\n",
       " (10, 'ppi'),\n",
       " (10, 'prod'),\n",
       " (10, 'prod'),\n",
       " (10, 'prod'),\n",
       " (10, 'prod'),\n",
       " (10, 'prod'),\n",
       " (10, 'prod'),\n",
       " (10, 'prod'),\n",
       " (10, 'prod'),\n",
       " (10, 'prod'),\n",
       " (10, 'rn'),\n",
       " (10, 'rn'),\n",
       " (10, 'rn'),\n",
       " (10, 'rn'),\n",
       " (10, 'rn'),\n",
       " (10, 'rn'),\n",
       " (10, 'rn'),\n",
       " (10, 'sn'),\n",
       " (10, 'sn'),\n",
       " (10, 'sn'),\n",
       " (10, 'sn'),\n",
       " (10, 'sn'),\n",
       " (10, 'sn'),\n",
       " (10, 'sn'),\n",
       " (10, 'sn'),\n",
       " (10, 'sn'),\n",
       " (11, 'ppi')]"
      ]
     },
     "execution_count": 151,
     "metadata": {},
     "output_type": "execute_result"
    }
   ],
   "source": [
    "predtuples"
   ]
  },
  {
   "cell_type": "code",
   "execution_count": 153,
   "metadata": {},
   "outputs": [
    {
     "name": "stdout",
     "output_type": "stream",
     "text": [
      "Counter({'sn': 9, 'ER': 3, 'ppi': 2, 'cn': 1})\n",
      "Counter({'BA': 3})\n",
      "Counter({'p2p': 4})\n",
      "Counter({'BA': 3})\n",
      "Counter({'ppi': 2})\n",
      "Counter({'BA': 3})\n",
      "Counter({'ER': 3})\n",
      "Counter({'ppi': 3, 'rn': 2})\n",
      "Counter({'ER': 3})\n",
      "Counter({'as': 18})\n",
      "Counter({'WS': 9, 'prod': 9, 'sn': 9, 'cn': 8, 'rn': 7, 'p2p': 5, 'ppi': 1})\n",
      "Counter({'ppi': 1})\n",
      "Counter()\n"
     ]
    }
   ],
   "source": [
    "for i in range (0,13):\n",
    "    c = Counter(y for x,y in predtuples if x==i)\n",
    "    print(c)"
   ]
  },
  {
   "cell_type": "markdown",
   "metadata": {
    "colab_type": "text",
    "id": "BmpMHzi_0Ttw"
   },
   "source": [
    "# predict and evaluate"
   ]
  }
 ],
 "metadata": {
  "colab": {
   "include_colab_link": true,
   "name": "HW3-SNA.ipynb",
   "private_outputs": true,
   "provenance": [],
   "toc_visible": true
  },
  "kernelspec": {
   "display_name": "Python 3",
   "language": "python",
   "name": "python3"
  },
  "language_info": {
   "codemirror_mode": {
    "name": "ipython",
    "version": 3
   },
   "file_extension": ".py",
   "mimetype": "text/x-python",
   "name": "python",
   "nbconvert_exporter": "python",
   "pygments_lexer": "ipython3",
   "version": "3.7.1"
  }
 },
 "nbformat": 4,
 "nbformat_minor": 1
}
